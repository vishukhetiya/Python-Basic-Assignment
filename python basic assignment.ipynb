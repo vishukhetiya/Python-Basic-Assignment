{
 "cells": [
  {
   "cell_type": "markdown",
   "id": "6837270b-76c1-4cb9-b80b-3ddcf83d8018",
   "metadata": {},
   "source": [
    "1.\tExplain the key features of Python that make it a popular choice for programming"
   ]
  },
  {
   "cell_type": "markdown",
   "id": "64c37a1a-2106-4ba8-b166-96fb5d7beb67",
   "metadata": {},
   "source": [
    "-> Python is known for its readability and simplicity.\n",
    "\n",
    "-> Python is widely use in almost every factor because it is simple and very easy in reading and understanding\n",
    "\n",
    "-> A beginner and pro both can easily learn and understand all the codes at the same time \n",
    "\n",
    "-> Python is freely available and open source, meaning anyone can use, modify and distribute it\n",
    "\n",
    "-> Python has massive libraries like 137000, it offers many common tasks so you don’t need to program from scratch.\n",
    "\n",
    "-> Interpreter lets you run code line by line that execution helps to quickly identified and for debug errors that optimize your code effectively\n",
    "\n",
    "-> Python can be used for web development, data science artificial intelligence, machine learning, automation and more\n",
    "\n",
    "-> Python is available on most platforms including windows macOS and Linux which means you can write and run python code anywhere\n",
    "\n",
    "-> Python has a massive community of developers which means there are plenty of tutorials and libraries available to help you to solve problem"
   ]
  },
  {
   "cell_type": "markdown",
   "id": "74263c07-aa37-4cca-b11e-a1ca2ebe6afb",
   "metadata": {},
   "source": [
    "2. Describe the role of predefined keywords in Python and provide examples of how they are used in a program"
   ]
  },
  {
   "cell_type": "markdown",
   "id": "32c0cc62-b339-4dcc-9794-1de39d30e3d8",
   "metadata": {},
   "source": [
    "-> Predefined keywords are also known as reserved words\n",
    "\n",
    "-> That predefined keywords are built in words that have special meanings and are part of the language’s syntax.\n",
    "\n",
    "-> This keyword cannot use as a variable name, function names or identifiers because they provide basic pre-defined or you can say built in functions in python code structure"
   ]
  },
  {
   "cell_type": "code",
   "execution_count": null,
   "id": "4291dc56-5263-4234-8f50-348709200bb7",
   "metadata": {},
   "outputs": [],
   "source": [
    " '''\tExamples of python keywords and their usage '''"
   ]
  },
  {
   "cell_type": "code",
   "execution_count": null,
   "id": "dc65a6c2-0a71-4835-b198-818ff550a507",
   "metadata": {},
   "outputs": [],
   "source": [
    "''' ->\tControl flow Keywords <- '''"
   ]
  },
  {
   "cell_type": "code",
   "execution_count": 19,
   "id": "0d661191-1689-4a4f-9b5a-f462c833f2c6",
   "metadata": {},
   "outputs": [
    {
     "name": "stdout",
     "output_type": "stream",
     "text": [
      "x is greater than 5\n"
     ]
    }
   ],
   "source": [
    "# If, elif, else: used for condition statements\n",
    "\n",
    "x = 10\n",
    "if x > 5 :\n",
    "    print(\"x is greater than 5\")\n",
    "else:\n",
    "\tprint (\"x is 5 or less”)\n"
   ]
  },
  {
   "cell_type": "code",
   "execution_count": 20,
   "id": "ef24098e-f80d-4c7a-82c6-e64378b7c46f",
   "metadata": {},
   "outputs": [
    {
     "name": "stdout",
     "output_type": "stream",
     "text": [
      "1\n",
      "2\n",
      "3\n",
      "4\n",
      "5\n",
      "6\n",
      "7\n",
      "8\n",
      "9\n",
      "10\n"
     ]
    }
   ],
   "source": [
    "# while: used for loops\n",
    "\n",
    "i = 1\n",
    "n = 5\n",
    "while i <= 10 :\n",
    "    print(i)\n",
    "    i+=1\n",
    "\n"
   ]
  },
  {
   "cell_type": "code",
   "execution_count": 9,
   "id": "96fbd4ee-5e3d-44b9-949d-7ad7d287a421",
   "metadata": {},
   "outputs": [
    {
     "name": "stdout",
     "output_type": "stream",
     "text": [
      "1\n",
      "2\n",
      "3\n",
      "4\n",
      "5\n",
      "6\n",
      "7\n",
      "8\n",
      "9\n",
      "10\n"
     ]
    }
   ],
   "source": [
    "# For : used for loops\n",
    "\n",
    "for i in range(1,11) :\n",
    "    print (i)"
   ]
  },
  {
   "cell_type": "code",
   "execution_count": 10,
   "id": "f6cedb2f-4dc3-4a22-ae19-8320f9a8592c",
   "metadata": {},
   "outputs": [
    {
     "name": "stdout",
     "output_type": "stream",
     "text": [
      "1\n",
      "2\n",
      "3\n"
     ]
    }
   ],
   "source": [
    "# Break used to control loop execution\n",
    "i = 1\n",
    "n = 5\n",
    "while i <= 10 :\n",
    "    print(i)\n",
    "    i+=1\n",
    "    if i == 4 :\n",
    "        break\n",
    "\n",
    "\n"
   ]
  },
  {
   "cell_type": "code",
   "execution_count": 15,
   "id": "9e9fa5d4-3899-426e-b38b-290154e48f5f",
   "metadata": {},
   "outputs": [
    {
     "name": "stdout",
     "output_type": "stream",
     "text": [
      "1\n",
      "2\n",
      "3\n",
      "5\n",
      "6\n",
      "7\n",
      "8\n",
      "9\n",
      "10\n"
     ]
    }
   ],
   "source": [
    "#  continue used to control loop execution\n",
    "\n",
    "for i in range(1,11):\n",
    "    if i == 4 :\n",
    "        continue\n",
    "    print(i)\n",
    "    "
   ]
  },
  {
   "cell_type": "code",
   "execution_count": null,
   "id": "1b9c6862-213e-40d1-8c9b-c529f8957df1",
   "metadata": {},
   "outputs": [],
   "source": [
    "'''-> Variable declaration and value assignment keywords '''"
   ]
  },
  {
   "cell_type": "raw",
   "id": "79c581b5-f939-497e-8889-4f88fb300656",
   "metadata": {},
   "source": [
    "\n",
    "Python does not require explicit declaration. You just assign a value to a variable name:\n",
    "X = 10\t\t(integer)\n",
    "Name = “Vishal”\t(string)\n",
    "Price = 99.99\t(float)\n",
    "Is active = True \t(Boolean)\n",
    "\n"
   ]
  },
  {
   "cell_type": "code",
   "execution_count": null,
   "id": "834fb6ee-1e83-4ee7-addc-5edff067930d",
   "metadata": {},
   "outputs": [],
   "source": [
    "'''  -> Function definition and return keywords '''"
   ]
  },
  {
   "cell_type": "code",
   "execution_count": 32,
   "id": "397df91b-489d-4828-871f-5be092c39e6f",
   "metadata": {},
   "outputs": [
    {
     "name": "stdout",
     "output_type": "stream",
     "text": [
      "HELLO\n"
     ]
    }
   ],
   "source": [
    "# In python you define a function using the def keyword, and return a value using the return keyword\n",
    "\n",
    "# Def Keyword\n",
    "\n",
    "def greet ():\n",
    "    print(\"HELLO\")\n",
    "greet()"
   ]
  },
  {
   "cell_type": "code",
   "execution_count": 34,
   "id": "d170633f-9b4e-4acf-87f3-58bbe61b4fcf",
   "metadata": {},
   "outputs": [
    {
     "data": {
      "text/plain": [
       "8"
      ]
     },
     "execution_count": 34,
     "metadata": {},
     "output_type": "execute_result"
    }
   ],
   "source": [
    "# Return Keyword\n",
    "\n",
    "def add (a, b):\n",
    "    return a + b\n",
    "add(3, 5)"
   ]
  },
  {
   "cell_type": "markdown",
   "id": "dc57bfc5-536c-4a64-a2d9-4967ba4e8f50",
   "metadata": {},
   "source": [
    "3.\tCompare and contrast mutable and immutable objects in Python with examples"
   ]
  },
  {
   "cell_type": "raw",
   "id": "8d2f8441-00de-4423-8d46-b7973b78f660",
   "metadata": {},
   "source": [
    " -> Definition:\n",
    "-- Mutable objects can be changed after creation\n",
    "-- Immutable objects cannot be changed after creation "
   ]
  },
  {
   "cell_type": "code",
   "execution_count": 35,
   "id": "b6f6faae-775c-45d2-95b7-cd3765667d14",
   "metadata": {},
   "outputs": [],
   "source": [
    "# Examples\n",
    "# Mutable Objects : List, dict, set\n",
    "# Immutable Objects : Int, float, str, tuple, bool"
   ]
  },
  {
   "cell_type": "code",
   "execution_count": 36,
   "id": "0e04b12a-55f5-454f-9133-0e10cdc2f197",
   "metadata": {},
   "outputs": [
    {
     "name": "stdout",
     "output_type": "stream",
     "text": [
      "[100, 2, 3]\n"
     ]
    }
   ],
   "source": [
    "''' -> Mutable (List) <- '''\n",
    "\n",
    "a = [1, 2, 3]\n",
    "a[0] = 100\n",
    "print(a)\n"
   ]
  },
  {
   "cell_type": "code",
   "execution_count": 38,
   "id": "37baace1-c201-4635-9688-49bdba870483",
   "metadata": {},
   "outputs": [
    {
     "name": "stdout",
     "output_type": "stream",
     "text": [
      "Bishal\n"
     ]
    }
   ],
   "source": [
    "''' -> Immutable (string)  <- '''\n",
    "\n",
    "a = \"Vishal\"\n",
    "# a[0] = \"B\" this will throw an error\n",
    "a = \"Bishal\"\n",
    "print(a)\n"
   ]
  },
  {
   "cell_type": "markdown",
   "id": "d907d68e-2073-4522-be5e-d4eab224ed36",
   "metadata": {},
   "source": [
    "4. Discuss the different types of operators in Python and provide examples of how they are used"
   ]
  },
  {
   "cell_type": "raw",
   "id": "7c8bccff-05d9-42bd-a88e-58db3e72ae3a",
   "metadata": {},
   "source": [
    "''' Arithmetic operator '''"
   ]
  },
  {
   "cell_type": "code",
   "execution_count": null,
   "id": "185f9eb9-4299-46ff-a6d4-5be0019302d7",
   "metadata": {},
   "outputs": [],
   "source": [
    "# Used for basic mathematical operations\n",
    "\n",
    "''' \n",
    "\n",
    "\n",
    "Operator\tDescription\t     Example\tResult\n",
    "  +\t        Addition\t     2 + 3\t     5\n",
    "  -\t        Subtraction\t     5 – 2 \t     3\n",
    "  *\t        Multiplication   4 * 2\t     8\n",
    "  /\t        Division\t     10 / 2\t     5.0\n",
    "  //\t    Floor division\t 7 // 2\t     3\n",
    "  %\t        Modulus\t         7 % 3\t     1\n",
    "  **\t    Exponentiation\t 2 ** 3\t     8\n",
    "\n",
    "\n",
    "'''"
   ]
  },
  {
   "cell_type": "raw",
   "id": "da086ecc-a966-4640-8daa-78027e6d624c",
   "metadata": {},
   "source": [
    "''' Comparison operator  '''"
   ]
  },
  {
   "cell_type": "code",
   "execution_count": null,
   "id": "f203fa30-c27c-4af1-a987-cbf0005a6b21",
   "metadata": {},
   "outputs": [],
   "source": [
    "# Used to compare values\n",
    "\n",
    "'''\n",
    "\n",
    "Operator\tDescription\t     Example\tResult\n",
    "==\t        Equal to \t     3 == 3\t     True\n",
    "!=\t        Not equal to     4 != 5\t     True\n",
    ">\t        Greater Than     5 > 2\t     True\n",
    "<\t        Less than\t     3 < 4\t     True\n",
    ">=       \tGreater or equal 5 >= 5\t     True\n",
    "<=\t        Less or equal\t 2 <= 3\t     True\n",
    "\n",
    "\n",
    "'''"
   ]
  },
  {
   "cell_type": "raw",
   "id": "cc31029e-1154-4882-89f9-bfea6a125552",
   "metadata": {},
   "source": [
    "''' Logical operator  '''"
   ]
  },
  {
   "cell_type": "code",
   "execution_count": null,
   "id": "3d46d307-82a3-4a9a-8e3c-1d7b09172ece",
   "metadata": {},
   "outputs": [],
   "source": [
    "# Used to combine conditional statement\n",
    "\n",
    "'''\n",
    "\n",
    "          and\t                     or\t                 not\n",
    "  Description \tResult\t  Description\tResult\t Description\tResult\n",
    "True And True\t True\tTrue And True\t True\tTrue And True\tFalse\n",
    "True and false\t False\tTrue and false\t True\tTrue and false\tFalse\n",
    "False and True\t False\tFalse and True\t True\tFalse and True\tFalse\n",
    "False and False\t False\tFalse and False\t False\tFalse and False\tTrue\n",
    "\n",
    "\n",
    "'''"
   ]
  },
  {
   "cell_type": "raw",
   "id": "d60b96ca-a59a-4526-a5dd-ff7390322e1a",
   "metadata": {},
   "source": [
    "''' Assignment operators  '''"
   ]
  },
  {
   "cell_type": "code",
   "execution_count": null,
   "id": "5e7d76f3-5814-4f87-a741-5ed88e92f688",
   "metadata": {},
   "outputs": [],
   "source": [
    "# Used to assign values\n",
    "\n",
    "'''\n",
    "\n",
    "Operator\tDescription      \tExample\n",
    "  =\t         Assign\t            X = 5\n",
    "  +=\tAdd and assign\t        X += 3\n",
    "  -=\tSubtract and assign  \tX -= 2\n",
    "  *=\tMultiply and assign\t    X *= 2\n",
    "  /=\tDivide and assign\t    X /= 2\n",
    "  //=\tFloor divide and assign\tX //= 2\n",
    "  %=\tModulus and assign   \tX %= 2\n",
    "  **=\tPower and assign\t    X **= 3\n",
    "\n",
    "\n",
    "'''"
   ]
  },
  {
   "cell_type": "raw",
   "id": "61639a46-85dd-4775-824e-ee477c7ff31d",
   "metadata": {},
   "source": [
    "''' Identify operators  '''"
   ]
  },
  {
   "cell_type": "code",
   "execution_count": null,
   "id": "bf1afb7c-c1d1-4d12-8da2-f1e52d9cfb84",
   "metadata": {},
   "outputs": [],
   "source": [
    "# Check if Two variables reference the same object\n",
    "\n",
    "'''\n",
    "\n",
    "Operator\tExample\t           Result\n",
    "  Is\t   X is y\t      True if same object\n",
    "Is not\t   X is not y\t  Trues if not same object\n",
    "\n",
    "\n",
    "'''"
   ]
  },
  {
   "cell_type": "raw",
   "id": "7871537b-a3a8-4b37-922e-b917a666e25a",
   "metadata": {},
   "source": [
    "''' Membership operators  '''"
   ]
  },
  {
   "cell_type": "code",
   "execution_count": null,
   "id": "ef229155-1993-4417-8f6e-3a0bcc1d68ec",
   "metadata": {},
   "outputs": [],
   "source": [
    "'''\n",
    "\n",
    "Operator\tExample \t        Result\n",
    "  in\t    ‘a’ in ‘apple’\t     True\n",
    "  not in\t‘z’ not in ‘apple’\tTrue\n",
    "\n",
    "\n",
    "'''"
   ]
  },
  {
   "cell_type": "markdown",
   "id": "de1bc595-e168-41d7-a41d-323a5e5553b3",
   "metadata": {},
   "source": [
    "5.\t Explain the concept of type casting in Python with examples"
   ]
  },
  {
   "cell_type": "raw",
   "id": "dde3055d-eb00-45fb-97a9-08eaf3b5cb39",
   "metadata": {},
   "source": [
    "-> \t Type casting is the process of converting one data type into another.\n",
    "->   In python, its often called type conversion, and it’s done using built in functions."
   ]
  },
  {
   "cell_type": "raw",
   "id": "207809c2-cb91-434a-b770-c88c232ea1a6",
   "metadata": {},
   "source": [
    "''' Common Type casting Functions '''"
   ]
  },
  {
   "cell_type": "code",
   "execution_count": null,
   "id": "57f2b391-c272-47b0-bf41-34c8ccc02221",
   "metadata": {},
   "outputs": [],
   "source": [
    "'''\n",
    "\n",
    "Function\tConverts to\n",
    "  int() \tInteger\n",
    "  float()\tFloating point\n",
    "  str()\t    String\n",
    "  bool()\tBoolean\n",
    "  list()\tList\n",
    "  tuple()\tTuple\n",
    "\n",
    "\n",
    "'''"
   ]
  },
  {
   "cell_type": "code",
   "execution_count": 43,
   "id": "34ab7e39-d205-4776-9c29-d27585240365",
   "metadata": {},
   "outputs": [],
   "source": [
    "''' Examples '''"
   ]
  },
  {
   "cell_type": "code",
   "execution_count": 42,
   "id": "bd6e4730-4ded-45fc-b060-fde8027eec9c",
   "metadata": {},
   "outputs": [
    {
     "name": "stdout",
     "output_type": "stream",
     "text": [
      "133\n"
     ]
    }
   ],
   "source": [
    "\n",
    "\n",
    "# String to Integer\n",
    "\n",
    "x = \"123\"\n",
    "y = int(x)\n",
    "print(y + 10)\n"
   ]
  },
  {
   "cell_type": "code",
   "execution_count": 45,
   "id": "e02239c7-4c19-4d44-a9e7-df899982e1bc",
   "metadata": {},
   "outputs": [
    {
     "name": "stdout",
     "output_type": "stream",
     "text": [
      "3\n"
     ]
    }
   ],
   "source": [
    "# Float to Integer\n",
    "\n",
    "f = 3.8\n",
    "i = int(f)\n",
    "print(i)\n",
    "\n",
    "\n",
    "#output : 3 (Decimal part is removed)"
   ]
  },
  {
   "cell_type": "code",
   "execution_count": 46,
   "id": "a2a0bcb2-fab4-44a0-b2b0-e2d717e4734c",
   "metadata": {},
   "outputs": [
    {
     "name": "stdout",
     "output_type": "stream",
     "text": [
      "50 is a number\n"
     ]
    }
   ],
   "source": [
    "# Integer to string\n",
    "\n",
    "x = 50\n",
    "y = str(x)\n",
    "print(y + \" is a number\")\n"
   ]
  },
  {
   "cell_type": "code",
   "execution_count": 47,
   "id": "1c60c979-9b5c-4b00-882a-41dedd560d9f",
   "metadata": {},
   "outputs": [
    {
     "name": "stdout",
     "output_type": "stream",
     "text": [
      "1\n",
      "0\n"
     ]
    }
   ],
   "source": [
    "# Boolean to integer\n",
    "\n",
    "print(int(True))\n",
    "print(int(False))\n"
   ]
  },
  {
   "cell_type": "code",
   "execution_count": 48,
   "id": "cc9fee46-9c57-4c5e-b176-8a3581ffcfcc",
   "metadata": {},
   "outputs": [
    {
     "name": "stdout",
     "output_type": "stream",
     "text": [
      "(1, 2, 3)\n"
     ]
    }
   ],
   "source": [
    "# List to Tuple\n",
    "\n",
    "lst = [1, 2, 3]\n",
    "tup = tuple(lst)\n",
    "print(tup)\n"
   ]
  },
  {
   "cell_type": "markdown",
   "id": "57e12b82-bac8-4b32-bb1b-32020c6155e0",
   "metadata": {},
   "source": [
    "6. How do conditional statements work in Python? Illustrate with examples"
   ]
  },
  {
   "cell_type": "raw",
   "id": "e10deca3-d9a1-462b-a238-46f3b7cd899f",
   "metadata": {},
   "source": [
    "->\tCondition statements let your problem make decisions and execute certain code only if condition is true\n",
    "->\tKeywords Used:\n",
    "If, elif, else, nested condition, using logical operator"
   ]
  },
  {
   "cell_type": "code",
   "execution_count": 49,
   "id": "13eff1c9-eb32-46cd-947b-08dc60ab51d5",
   "metadata": {},
   "outputs": [
    {
     "name": "stdout",
     "output_type": "stream",
     "text": [
      "x is greater than 5\n"
     ]
    }
   ],
   "source": [
    "# If statement\n",
    "\n",
    "x = 10\n",
    "if x > 5:\n",
    "    print(\"x is greater than 5\")\n"
   ]
  },
  {
   "cell_type": "code",
   "execution_count": 51,
   "id": "8615ad95-39ff-447d-8e7c-f956e46a8dfe",
   "metadata": {},
   "outputs": [
    {
     "name": "stdout",
     "output_type": "stream",
     "text": [
      "x is 5 or less\n"
     ]
    }
   ],
   "source": [
    "# Elif statement\n",
    "\n",
    "x = 3\n",
    "if x > 5:\n",
    "     print(\"x is greater than 5\")\n",
    "else:\n",
    "   print(\"x is 5 or less\")\n"
   ]
  },
  {
   "cell_type": "code",
   "execution_count": 53,
   "id": "d334d262-67c1-413e-bf49-b735c12e48e1",
   "metadata": {},
   "outputs": [
    {
     "name": "stdout",
     "output_type": "stream",
     "text": [
      "x is equal to 5\n"
     ]
    }
   ],
   "source": [
    "# Else statement\n",
    "\n",
    "x = 5\n",
    "if x > 5:\n",
    "     print(\"x is greater than 5\")\n",
    "elif x == 5:\n",
    "      print(\"x is equal to 5\")\n",
    "else:\n",
    "     print(\"x is less than 5\")\n"
   ]
  },
  {
   "cell_type": "code",
   "execution_count": 54,
   "id": "783c3856-ed76-4057-aa36-98a20667a6a8",
   "metadata": {},
   "outputs": [
    {
     "name": "stdout",
     "output_type": "stream",
     "text": [
      "x is between 5 and 15\n"
     ]
    }
   ],
   "source": [
    "# Nested if Condition\n",
    "\n",
    "x = 10\n",
    "if x > 5:\n",
    "      if x < 15:\n",
    "              print(\"x is between 5 and 15\")\n"
   ]
  },
  {
   "cell_type": "code",
   "execution_count": 55,
   "id": "55e58f7d-a702-451c-a77e-3ceb9a6f1287",
   "metadata": {},
   "outputs": [
    {
     "name": "stdout",
     "output_type": "stream",
     "text": [
      "x is between 5 and 10\n"
     ]
    }
   ],
   "source": [
    "# Using logical operators\n",
    "\n",
    "x = 7\n",
    "if x > 5 and x < 10:\n",
    "          print(\"x is between 5 and 10\")\n"
   ]
  },
  {
   "cell_type": "markdown",
   "id": "64d48486-6a0d-474d-a1b8-909a7b4664f8",
   "metadata": {},
   "source": [
    "7.\t Describe the different types of loops in Python and their use cases with examples."
   ]
  },
  {
   "cell_type": "raw",
   "id": "00cbdcc1-2d6e-48f3-b8e1-975dc7f431a6",
   "metadata": {},
   "source": [
    "->\tPython provides three main types of loops, each useful for different situations:\n",
    "1.\tfor loop\n",
    "2.\twhile loop\n",
    "3.\tNested loops"
   ]
  },
  {
   "cell_type": "code",
   "execution_count": 56,
   "id": "faef40aa-627e-498b-a9b2-ab34893cc199",
   "metadata": {},
   "outputs": [
    {
     "name": "stdout",
     "output_type": "stream",
     "text": [
      "apple\n",
      "banana\n",
      "cherry\n"
     ]
    }
   ],
   "source": [
    "# for loop\n",
    "\n",
    "fruits = [\"apple\", \"banana\", \"cherry\"]\n",
    "for fruit in fruits :\n",
    "    print(fruit)\n"
   ]
  },
  {
   "cell_type": "code",
   "execution_count": 57,
   "id": "68126bde-48f8-441f-8244-231e0b0525bb",
   "metadata": {},
   "outputs": [
    {
     "name": "stdout",
     "output_type": "stream",
     "text": [
      "1\n",
      "2\n",
      "3\n",
      "4\n",
      "5\n"
     ]
    }
   ],
   "source": [
    "# while loop\n",
    "\n",
    "count = 1\n",
    "while count <= 5:\n",
    "    print(count)\n",
    "    count+=1\n"
   ]
  },
  {
   "cell_type": "code",
   "execution_count": 58,
   "id": "7ab66806-77b6-4591-af99-5162fb2809eb",
   "metadata": {},
   "outputs": [
    {
     "name": "stdout",
     "output_type": "stream",
     "text": [
      "1 1\n",
      "1 2\n",
      "1 3\n",
      "2 1\n",
      "2 2\n",
      "2 3\n",
      "3 1\n",
      "3 2\n",
      "3 3\n"
     ]
    }
   ],
   "source": [
    "# Nested loops\n",
    "\n",
    "for i in range(1, 4) :\n",
    "    for j in range(1, 4):\n",
    "        print(i, j)\n"
   ]
  }
 ],
 "metadata": {
  "kernelspec": {
   "display_name": "Python 3 (ipykernel)",
   "language": "python",
   "name": "python3"
  },
  "language_info": {
   "codemirror_mode": {
    "name": "ipython",
    "version": 3
   },
   "file_extension": ".py",
   "mimetype": "text/x-python",
   "name": "python",
   "nbconvert_exporter": "python",
   "pygments_lexer": "ipython3",
   "version": "3.12.7"
  }
 },
 "nbformat": 4,
 "nbformat_minor": 5
}
